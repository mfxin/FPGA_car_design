#   Load the Overlay
from pynq.overlays.base import BaseOverlay
from pynq.lib.video import *

base = BaseOverlay("base.bit")
#hdmi_in = base.video.hdmi_in
#hdmi_out = base.video.hdmi_out

#   monitor configuration: 640*480
Mode = VideoMode(640,480,24)
hdmi_out = base.video.hdmi_out

#   Initialize HDMI I/O
hdmi_out.configure(Mode,PIXEL_BGR)
hdmi_out.start()
frame_in_w = 640
frame_in_h = 480

#   Apply the face detection to the input
import cv2
import numpy as np
import time

#path = '\\home\\xilinx\\jupyter_notebooks\\base\\video\\data\\casecade,xml'
#frame = hdmi_in.readframe()
faceCascade = cv2.CascadeClassifier( 
    '/home/xilinx/jupyter_notebooks/base/video/data/'
    'cascade.xml')
cap = cv2.VideoCapture(0)
cap.set(cv2.CAP_PROP_FRAME_WIDTH, frame_in_w);
cap.set(cv2.CAP_PROP_FRAME_HEIGHT, frame_in_h);

timeF = 10

globalimage=np.zeros((640,480,3), np.uint8) 

while True:
    print("进入循环")
    ret, frame = cap.read()
    globalimage = frame
    img = frame.copy()
    gray = cv2.cvtColor(frame, cv2.COLOR_BGR2GRAY)
    print("准备检测")
    rect = faceCascade.detectMultiScale(
        gray,
        scaleFactor=1.15,
        minNeighbors=3,
        minSize=(3, 3),
        flags=cv2.IMREAD_GRAYSCALE
    )
    print("检测完毕")

#    print(rect)
    if rect == ():
        print("没检测到")
    else:
        print("检测到了")

    #time.sleep(10)
    for (x, y, w, h) in rect:
        cv2.rectangle(frame, (x, y), (x + w, y + h), (0, 0, 255), 2)
#    cv2.imshow('frame', frame)
#   Show results on HDMI output
    outframe = hdmi_out.newframe()
    outframe[:] = frame
    hdmi_out.writeframe(outframe)
        
    print("已显示")
    if cv2.waitKey(1) & 0xFF == ord('q'):
        break

#   Release HDMI
hdmi_out.stop()
del hdmi_out

    
    